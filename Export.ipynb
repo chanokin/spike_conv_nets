{
 "cells": [
  {
   "cell_type": "code",
   "execution_count": 1,
   "metadata": {},
   "outputs": [],
   "source": [
    "import torch\n",
    "import norse.torch\n",
    "# from models import snn"
   ]
  },
  {
   "cell_type": "code",
   "execution_count": 2,
   "metadata": {},
   "outputs": [
    {
     "name": "stderr",
     "output_type": "stream",
     "text": [
      "/its/home/gp283/spike_convnets/venv3/lib/python3.6/site-packages/pytorch_lightning/metrics/__init__.py:44: LightningDeprecationWarning: `pytorch_lightning.metrics.*` module has been renamed to `torchmetrics.*` and split off to its own package (https://github.com/PyTorchLightning/metrics) since v1.3 and will be removed in v1.5\n",
      "  \"`pytorch_lightning.metrics.*` module has been renamed to `torchmetrics.*` and split off to its own package\"\n"
     ]
    }
   ],
   "source": [
    "\n",
    "import torch.nn as nn\n",
    "from norse.torch.module.sequential import SequentialState\n",
    "from norse.torch.functional.lif import LIFParameters\n",
    "from norse.torch.module.lif import LIFCell\n",
    "from norse.torch.module.leaky_integrator import LICell\n",
    "\n",
    "import pytorch_lightning as pl\n",
    "\n",
    "class DVSModelSimple2(pl.LightningModule):\n",
    "    def __init__(\n",
    "        self,\n",
    "        n_class,\n",
    "        n_channels,\n",
    "        height,\n",
    "        width,\n",
    "        class_weights=None,\n",
    "        method=\"super\",\n",
    "        alpha=100,\n",
    "        dt=0.001,\n",
    "    ):\n",
    "        super().__init__()\n",
    "        self.n_class = n_class\n",
    "        self.height = height\n",
    "        self.width = width\n",
    "        self.loss_fn = torch.nn.CrossEntropyLoss(weight=class_weights)\n",
    "\n",
    "        # block 1\n",
    "        self.block1 = SequentialState(\n",
    "            nn.Conv2d(n_channels, 8, 3, padding=1, bias=False),\n",
    "            LICell(p=LIFParameters(method=method, alpha=alpha), dt=dt),\n",
    "            nn.AvgPool2d(2, stride=2, ceil_mode=True),  # 1/2\n",
    "            nn.BatchNorm2d(8),\n",
    "        )\n",
    "\n",
    "        # block 2\n",
    "        self.block2 = SequentialState(\n",
    "            nn.Conv2d(8, 16, 3, padding=1, bias=False),\n",
    "            LICell(p=LIFParameters(method=method, alpha=alpha), dt=dt),\n",
    "            nn.AvgPool2d(2, stride=2, ceil_mode=True),  # 1/4\n",
    "            nn.BatchNorm2d(16),\n",
    "        )\n",
    "\n",
    "        # block 3\n",
    "        self.block3 = SequentialState(\n",
    "            nn.Conv2d(16, 32, 3, padding=1, bias=False),\n",
    "            LICell(p=LIFParameters(method=method, alpha=alpha), dt=dt),\n",
    "            nn.AvgPool2d(2, stride=2, ceil_mode=True),  # 1/8\n",
    "            nn.BatchNorm2d(32),\n",
    "        )\n",
    "\n",
    "        # dense\n",
    "        self.dense = SequentialState(\n",
    "            nn.Conv2d(32, 32, 7, padding=3, bias=False),\n",
    "            LICell(p=LIFParameters(method=method, alpha=alpha), dt=dt),\n",
    "            nn.BatchNorm2d(32),\n",
    "        )\n",
    "\n",
    "        self.score_block2 = nn.Conv2d(16, n_class, 1, bias=False)\n",
    "        self.deconv_block2 = nn.ConvTranspose2d(\n",
    "            n_class, n_class, 8, stride=4, padding=2, bias=False\n",
    "        )\n",
    "\n",
    "        self.score_dense = nn.Conv2d(32, n_class, 1, bias=False)\n",
    "        self.deconv_dense = nn.ConvTranspose2d(\n",
    "            n_class, n_class, 16, stride=8, padding=4, bias=False\n",
    "        )\n",
    "\n",
    "        self.final = LICell(dt=dt)\n",
    "\n",
    "    def forward(self, x):\n",
    "        state_block1 = state_block2 = state_block3 = state_dense = state_final = None\n",
    "\n",
    "        # output              batch,      class,        frame,      height,     width\n",
    "        output = torch.empty(\n",
    "            (x.shape[0], self.n_class, x.shape[1], x.shape[3], x.shape[4]),\n",
    "            device=self.device,\n",
    "        )\n",
    "\n",
    "        # for each frame\n",
    "        for i in range(x.shape[1]):\n",
    "            frame = x[:, i, :, :, :]\n",
    "\n",
    "\n",
    "            out_block1, state_block1 = self.block1(frame, state_block1)  # 1/2\n",
    "            out_block2, state_block2 = self.block2(out_block1, state_block2)  # 1/4\n",
    "            out_block3, state_block3 = self.block3(out_block2, state_block3)  # 1/8\n",
    "            out_dense, state_dense = self.dense(out_block3, state_dense)\n",
    "\n",
    "            ####### WITH FEATURE FUSION\n",
    "            out_score_block2 = self.score_block2(out_block2)\n",
    "            out_deconv_block2 = self.deconv_block2(out_score_block2)\n",
    "\n",
    "            # out_score_dense = checkpoint(self.score_dense, out_dense)\n",
    "            out_score_dense = self.score_dense(out_dense)\n",
    "            out_deconv_dense = self.deconv_dense(out_score_dense)\n",
    "\n",
    "            out_deconv = out_deconv_block2 + out_deconv_dense\n",
    "            #######\n",
    "\n",
    "            out_final, state_final = self.final(out_deconv, state_final)\n",
    "\n",
    "            output[:, :, i, :, :] = out_final\n",
    "\n",
    "            self.log(\"input_mean\", frame.mean())\n",
    "            self.log(\"out_block1_mean\", out_block1.mean())\n",
    "            self.log(\"out_block2_mean\", out_block2.mean())\n",
    "            self.log(\"out_block3_mean\", out_block3.mean())\n",
    "            self.log(\"out_dense_mean\", out_dense.mean())\n",
    "\n",
    "        return output\n",
    "\n",
    "    def training_step(self, batch, batch_idx):\n",
    "        # training_step defined the train loop.\n",
    "        x, y = batch\n",
    "        z = self.forward(x)\n",
    "\n",
    "        loss = self.loss_fn(z, y)\n",
    "        # Log the loss\n",
    "        self.log(\"loss\", loss, on_step=True, on_epoch=True, prog_bar=True)\n",
    "        return loss\n",
    "\n",
    "    def configure_optimizers(self):\n",
    "        return torch.optim.Adam(self.parameters(), lr=1e-03, weight_decay=1e-5)"
   ]
  },
  {
   "cell_type": "code",
   "execution_count": 3,
   "metadata": {},
   "outputs": [],
   "source": [
    "m = DVSModelSimple2(9, 2, 128, 128)"
   ]
  },
  {
   "cell_type": "code",
   "execution_count": 4,
   "metadata": {
    "scrolled": true
   },
   "outputs": [],
   "source": [
    "# torch.onnx.export(m, torch.randn(1, 1, 2, 128, 128), 'dvs.onnx', verbose=True, opset_version=11)"
   ]
  },
  {
   "cell_type": "code",
   "execution_count": 8,
   "metadata": {},
   "outputs": [],
   "source": [
    "from snntoolbox.utils.utils import import_configparser\n",
    "from snntoolbox.simulation.target_simulators.spiNNaker_target_sim import SNN\n",
    "configparser = import_configparser()\n",
    "config = configparser.ConfigParser()\n",
    "config['paths'] = {\n",
    "    'path_wd': '.',             # Path to model.\n",
    "}\n",
    "\n",
    "config['tools'] = {\n",
    "    'evaluate_ann': False,           # Test ANN on dataset before conversion.\n",
    "    # Normalize weights for full dynamic range.\n",
    "    'normalize': False,\n",
    "    'scale_weights_exp': False\n",
    "}\n",
    "\n",
    "config['input'] = {\n",
    "    'poisson_input': True,           # Images are encodes as spike trains.\n",
    "    'input_rate': 1000\n",
    "}\n",
    "\n",
    "config['cell'] = {\n",
    "    'v': 0.0,\n",
    "    'v_thresh': 1.0\n",
    "}\n",
    "\n",
    "config['simulation'] = {\n",
    "    # Chooses execution backend of SNN toolbox.\n",
    "    'simulator': 'spiNNaker',\n",
    "    'duration': 50,                 # Number of time steps to run each sample.\n",
    "    'num_to_test': 5,               # How many test samples to run.\n",
    "    'batch_size': 1,                # Batch size for simulation.\n",
    "    # SpiNNaker seems to require 0.1 for comparable results.\n",
    "    'dt': 0.1,\n",
    "    'restrictions': ''\n",
    "}\n",
    "\n"
   ]
  },
  {
   "cell_type": "code",
   "execution_count": 9,
   "metadata": {},
   "outputs": [
    {
     "name": "stdout",
     "output_type": "stream",
     "text": [
      "Initializing spiNNaker simulator...\n",
      "\n"
     ]
    },
    {
     "ename": "NoSectionError",
     "evalue": "No section: 'restrictions'",
     "output_type": "error",
     "traceback": [
      "\u001b[0;31m---------------------------------------------------------------------------\u001b[0m",
      "\u001b[0;31mKeyError\u001b[0m                                  Traceback (most recent call last)",
      "\u001b[0;32m/usr/lib/python3.6/configparser.py\u001b[0m in \u001b[0;36m_unify_values\u001b[0;34m(self, section, vars)\u001b[0m\n\u001b[1;32m   1137\u001b[0m         \u001b[0;32mtry\u001b[0m\u001b[0;34m:\u001b[0m\u001b[0;34m\u001b[0m\u001b[0;34m\u001b[0m\u001b[0m\n\u001b[0;32m-> 1138\u001b[0;31m             \u001b[0msectiondict\u001b[0m \u001b[0;34m=\u001b[0m \u001b[0mself\u001b[0m\u001b[0;34m.\u001b[0m\u001b[0m_sections\u001b[0m\u001b[0;34m[\u001b[0m\u001b[0msection\u001b[0m\u001b[0;34m]\u001b[0m\u001b[0;34m\u001b[0m\u001b[0;34m\u001b[0m\u001b[0m\n\u001b[0m\u001b[1;32m   1139\u001b[0m         \u001b[0;32mexcept\u001b[0m \u001b[0mKeyError\u001b[0m\u001b[0;34m:\u001b[0m\u001b[0;34m\u001b[0m\u001b[0;34m\u001b[0m\u001b[0m\n",
      "\u001b[0;31mKeyError\u001b[0m: 'restrictions'",
      "\nDuring handling of the above exception, another exception occurred:\n",
      "\u001b[0;31mNoSectionError\u001b[0m                            Traceback (most recent call last)",
      "\u001b[0;32m<ipython-input-9-00b0fae8faf9>\u001b[0m in \u001b[0;36m<module>\u001b[0;34m\u001b[0m\n\u001b[0;32m----> 1\u001b[0;31m \u001b[0msnn_parser\u001b[0m \u001b[0;34m=\u001b[0m \u001b[0mSNN\u001b[0m\u001b[0;34m(\u001b[0m\u001b[0mconfig\u001b[0m\u001b[0;34m)\u001b[0m\u001b[0;34m\u001b[0m\u001b[0;34m\u001b[0m\u001b[0m\n\u001b[0m\u001b[1;32m      2\u001b[0m \u001b[0msnn_parser\u001b[0m\u001b[0;34m.\u001b[0m\u001b[0mbuild\u001b[0m\u001b[0;34m(\u001b[0m\u001b[0mm\u001b[0m\u001b[0;34m)\u001b[0m\u001b[0;34m\u001b[0m\u001b[0;34m\u001b[0m\u001b[0m\n\u001b[1;32m      3\u001b[0m \u001b[0msnn_parser\u001b[0m\u001b[0;34m.\u001b[0m\u001b[0msave\u001b[0m\u001b[0;34m(\u001b[0m\u001b[0;34m'.'\u001b[0m\u001b[0;34m,\u001b[0m \u001b[0;34m'snn_model'\u001b[0m\u001b[0;34m)\u001b[0m\u001b[0;34m\u001b[0m\u001b[0;34m\u001b[0m\u001b[0m\n",
      "\u001b[0;32m~/spike_convnets/snn_toolbox/snntoolbox/simulation/target_simulators/pyNN_target_sim.py\u001b[0m in \u001b[0;36m__init__\u001b[0;34m(self, config, queue)\u001b[0m\n\u001b[1;32m     44\u001b[0m     \u001b[0;32mdef\u001b[0m \u001b[0m__init__\u001b[0m\u001b[0;34m(\u001b[0m\u001b[0mself\u001b[0m\u001b[0;34m,\u001b[0m \u001b[0mconfig\u001b[0m\u001b[0;34m,\u001b[0m \u001b[0mqueue\u001b[0m\u001b[0;34m=\u001b[0m\u001b[0;32mNone\u001b[0m\u001b[0;34m)\u001b[0m\u001b[0;34m:\u001b[0m\u001b[0;34m\u001b[0m\u001b[0;34m\u001b[0m\u001b[0m\n\u001b[1;32m     45\u001b[0m \u001b[0;34m\u001b[0m\u001b[0m\n\u001b[0;32m---> 46\u001b[0;31m         \u001b[0mAbstractSNN\u001b[0m\u001b[0;34m.\u001b[0m\u001b[0m__init__\u001b[0m\u001b[0;34m(\u001b[0m\u001b[0mself\u001b[0m\u001b[0;34m,\u001b[0m \u001b[0mconfig\u001b[0m\u001b[0;34m,\u001b[0m \u001b[0mqueue\u001b[0m\u001b[0;34m)\u001b[0m\u001b[0;34m\u001b[0m\u001b[0;34m\u001b[0m\u001b[0m\n\u001b[0m\u001b[1;32m     47\u001b[0m \u001b[0;34m\u001b[0m\u001b[0m\n\u001b[1;32m     48\u001b[0m         \u001b[0mself\u001b[0m\u001b[0;34m.\u001b[0m\u001b[0mlayers\u001b[0m \u001b[0;34m=\u001b[0m \u001b[0;34m[\u001b[0m\u001b[0;34m]\u001b[0m\u001b[0;34m\u001b[0m\u001b[0;34m\u001b[0m\u001b[0m\n",
      "\u001b[0;32m~/spike_convnets/snn_toolbox/snntoolbox/simulation/utils.py\u001b[0m in \u001b[0;36m__init__\u001b[0;34m(self, config, queue)\u001b[0m\n\u001b[1;32m    165\u001b[0m         \u001b[0mself\u001b[0m\u001b[0;34m.\u001b[0m\u001b[0mtop_k\u001b[0m \u001b[0;34m=\u001b[0m \u001b[0;32mNone\u001b[0m\u001b[0;34m\u001b[0m\u001b[0;34m\u001b[0m\u001b[0m\n\u001b[1;32m    166\u001b[0m \u001b[0;34m\u001b[0m\u001b[0m\n\u001b[0;32m--> 167\u001b[0;31m         \u001b[0mself\u001b[0m\u001b[0;34m.\u001b[0m\u001b[0msim\u001b[0m \u001b[0;34m=\u001b[0m \u001b[0minitialize_simulator\u001b[0m\u001b[0;34m(\u001b[0m\u001b[0mconfig\u001b[0m\u001b[0;34m)\u001b[0m\u001b[0;34m\u001b[0m\u001b[0;34m\u001b[0m\u001b[0m\n\u001b[0m\u001b[1;32m    168\u001b[0m \u001b[0;34m\u001b[0m\u001b[0m\n\u001b[1;32m    169\u001b[0m         self._is_early_stopping = self.config.getboolean('simulation',\n",
      "\u001b[0;32m~/spike_convnets/snn_toolbox/snntoolbox/bin/utils.py\u001b[0m in \u001b[0;36minitialize_simulator\u001b[0;34m(config)\u001b[0m\n\u001b[1;32m    542\u001b[0m     \u001b[0mprint\u001b[0m\u001b[0;34m(\u001b[0m\u001b[0;34m\"Initializing {} simulator...\\n\"\u001b[0m\u001b[0;34m.\u001b[0m\u001b[0mformat\u001b[0m\u001b[0;34m(\u001b[0m\u001b[0msimulator\u001b[0m\u001b[0;34m)\u001b[0m\u001b[0;34m)\u001b[0m\u001b[0;34m\u001b[0m\u001b[0;34m\u001b[0m\u001b[0m\n\u001b[1;32m    543\u001b[0m     if simulator in config_string_to_set_of_strings(\n\u001b[0;32m--> 544\u001b[0;31m             config.get('restrictions', 'simulators_pyNN')):\n\u001b[0m\u001b[1;32m    545\u001b[0m         \u001b[0;32mif\u001b[0m \u001b[0msimulator\u001b[0m \u001b[0;34m==\u001b[0m \u001b[0;34m'spiNNaker'\u001b[0m\u001b[0;34m:\u001b[0m\u001b[0;34m\u001b[0m\u001b[0;34m\u001b[0m\u001b[0m\n\u001b[1;32m    546\u001b[0m             \u001b[0;32mtry\u001b[0m\u001b[0;34m:\u001b[0m\u001b[0;34m\u001b[0m\u001b[0;34m\u001b[0m\u001b[0m\n",
      "\u001b[0;32m/usr/lib/python3.6/configparser.py\u001b[0m in \u001b[0;36mget\u001b[0;34m(self, section, option, raw, vars, fallback)\u001b[0m\n\u001b[1;32m    779\u001b[0m         \"\"\"\n\u001b[1;32m    780\u001b[0m         \u001b[0;32mtry\u001b[0m\u001b[0;34m:\u001b[0m\u001b[0;34m\u001b[0m\u001b[0;34m\u001b[0m\u001b[0m\n\u001b[0;32m--> 781\u001b[0;31m             \u001b[0md\u001b[0m \u001b[0;34m=\u001b[0m \u001b[0mself\u001b[0m\u001b[0;34m.\u001b[0m\u001b[0m_unify_values\u001b[0m\u001b[0;34m(\u001b[0m\u001b[0msection\u001b[0m\u001b[0;34m,\u001b[0m \u001b[0mvars\u001b[0m\u001b[0;34m)\u001b[0m\u001b[0;34m\u001b[0m\u001b[0;34m\u001b[0m\u001b[0m\n\u001b[0m\u001b[1;32m    782\u001b[0m         \u001b[0;32mexcept\u001b[0m \u001b[0mNoSectionError\u001b[0m\u001b[0;34m:\u001b[0m\u001b[0;34m\u001b[0m\u001b[0;34m\u001b[0m\u001b[0m\n\u001b[1;32m    783\u001b[0m             \u001b[0;32mif\u001b[0m \u001b[0mfallback\u001b[0m \u001b[0;32mis\u001b[0m \u001b[0m_UNSET\u001b[0m\u001b[0;34m:\u001b[0m\u001b[0;34m\u001b[0m\u001b[0;34m\u001b[0m\u001b[0m\n",
      "\u001b[0;32m/usr/lib/python3.6/configparser.py\u001b[0m in \u001b[0;36m_unify_values\u001b[0;34m(self, section, vars)\u001b[0m\n\u001b[1;32m   1139\u001b[0m         \u001b[0;32mexcept\u001b[0m \u001b[0mKeyError\u001b[0m\u001b[0;34m:\u001b[0m\u001b[0;34m\u001b[0m\u001b[0;34m\u001b[0m\u001b[0m\n\u001b[1;32m   1140\u001b[0m             \u001b[0;32mif\u001b[0m \u001b[0msection\u001b[0m \u001b[0;34m!=\u001b[0m \u001b[0mself\u001b[0m\u001b[0;34m.\u001b[0m\u001b[0mdefault_section\u001b[0m\u001b[0;34m:\u001b[0m\u001b[0;34m\u001b[0m\u001b[0;34m\u001b[0m\u001b[0m\n\u001b[0;32m-> 1141\u001b[0;31m                 \u001b[0;32mraise\u001b[0m \u001b[0mNoSectionError\u001b[0m\u001b[0;34m(\u001b[0m\u001b[0msection\u001b[0m\u001b[0;34m)\u001b[0m\u001b[0;34m\u001b[0m\u001b[0;34m\u001b[0m\u001b[0m\n\u001b[0m\u001b[1;32m   1142\u001b[0m         \u001b[0;31m# Update with the entry specific variables\u001b[0m\u001b[0;34m\u001b[0m\u001b[0;34m\u001b[0m\u001b[0;34m\u001b[0m\u001b[0m\n\u001b[1;32m   1143\u001b[0m         \u001b[0mvardict\u001b[0m \u001b[0;34m=\u001b[0m \u001b[0;34m{\u001b[0m\u001b[0;34m}\u001b[0m\u001b[0;34m\u001b[0m\u001b[0;34m\u001b[0m\u001b[0m\n",
      "\u001b[0;31mNoSectionError\u001b[0m: No section: 'restrictions'"
     ]
    }
   ],
   "source": [
    "snn_parser = SNN(config)\n",
    "snn_parser.build(m)\n",
    "snn_parser.save('.', 'snn_model')"
   ]
  },
  {
   "cell_type": "code",
   "execution_count": null,
   "metadata": {},
   "outputs": [],
   "source": []
  }
 ],
 "metadata": {
  "kernelspec": {
   "display_name": "venv3",
   "language": "python",
   "name": "venv3"
  },
  "language_info": {
   "codemirror_mode": {
    "name": "ipython",
    "version": 3
   },
   "file_extension": ".py",
   "mimetype": "text/x-python",
   "name": "python",
   "nbconvert_exporter": "python",
   "pygments_lexer": "ipython3",
   "version": "3.6.9"
  }
 },
 "nbformat": 4,
 "nbformat_minor": 5
}
