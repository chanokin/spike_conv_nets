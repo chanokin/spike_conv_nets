{
 "cells": [
  {
   "cell_type": "code",
   "execution_count": 182,
   "metadata": {
    "collapsed": true
   },
   "outputs": [],
   "source": [
    "import numpy as np\n",
    "from matplotlib import pyplot as plt\n",
    "from sklearn.decomposition import PCA\n",
    "from scipy.spatial.transform import Rotation as R\n"
   ]
  },
  {
   "cell_type": "code",
   "execution_count": 183,
   "outputs": [],
   "source": [
    "def generate_points(n_handle=10, n_head=100, seed=13):\n",
    "    # x, y, z\n",
    "    min_handle = np.array([-3, -1, -1])\n",
    "    max_handle = np.array([1, 1, 1])\n",
    "\n",
    "    min_head = np.array([1, -1, -2])\n",
    "    max_head = np.array([2, 1, 2])\n",
    "\n",
    "    np.random.seed(seed)\n",
    "    handle_points = np.random.uniform(min_handle, max_handle,\n",
    "                                      [n_handle, 3])\n",
    "    head_points = np.random.uniform(min_head, max_head,\n",
    "                                    [n_head, 3])\n",
    "\n",
    "    return np.vstack([handle_points, head_points])"
   ],
   "metadata": {
    "collapsed": false,
    "pycharm": {
     "name": "#%%\n"
    }
   }
  },
  {
   "cell_type": "code",
   "execution_count": 184,
   "outputs": [
    {
     "data": {
      "text/plain": "<Figure size 432x288 with 3 Axes>",
      "image/png": "[encoded data removed]"
     },
     "metadata": {
      "needs_background": "light"
     },
     "output_type": "display_data"
    }
   ],
   "source": [
    "hammer = generate_points(5, 50)\n",
    "min_hammer = np.min(hammer, axis=0)\n",
    "max_hammer = np.max(hammer, axis=0)\n",
    "mid_hammer = min_hammer + (max_hammer - min_hammer) * 0.5\n",
    "\n",
    "fw = 5.\n",
    "plot_lim = 5\n",
    "order = [[0, 1, 'x, y'],\n",
    "         [0, 2, 'x, z'],\n",
    "         [1, 2, 'y, z']]\n",
    "\n",
    "fig = plt.plot(figsize=(fw*5, fw*1))\n",
    "for p in range(3):\n",
    "    ax = plt.subplot(1, 3, p+1)\n",
    "    ax.set_title(order[p][2])\n",
    "    ax.plot(hammer[:, order[p][0]], hammer[:, order[p][1]], 'c.')\n",
    "    ax.plot(mid_hammer[order[p][0]], mid_hammer[order[p][1]], 'r^')\n",
    "    ax.set_xlim(-plot_lim, plot_lim)\n",
    "    ax.set_ylim(-plot_lim, plot_lim)\n",
    "    ax.set_aspect('equal', 'box')\n",
    "\n",
    "plt.show()"
   ],
   "metadata": {
    "collapsed": false,
    "pycharm": {
     "name": "#%%\n"
    }
   }
  },
  {
   "cell_type": "code",
   "execution_count": 185,
   "outputs": [
    {
     "data": {
      "text/plain": "<Figure size 432x288 with 3 Axes>",
      "image/png": "[encoded data removed]"
     },
     "metadata": {
      "needs_background": "light"
     },
     "output_type": "display_data"
    }
   ],
   "source": [
    "# ROTATE\n",
    "r = R.from_euler('xyz', [30, 10, 75], degrees=True)\n",
    "hammer_rotated = r.apply(hammer)\n",
    "\n",
    "fig = plt.plot(figsize=(fw*5, fw*1))\n",
    "for p in range(3):\n",
    "    ax = plt.subplot(1, 3, p+1)\n",
    "    ax.set_title(order[p][2])\n",
    "    ax.plot(hammer_rotated[:, order[p][0]],\n",
    "            hammer_rotated[:, order[p][1]], 'c.')\n",
    "    ax.set_xlim(-plot_lim, plot_lim)\n",
    "    ax.set_ylim(-plot_lim, plot_lim)\n",
    "    ax.set_aspect('equal', 'box')\n",
    "\n",
    "plt.show()"
   ],
   "metadata": {
    "collapsed": false,
    "pycharm": {
     "name": "#%%\n"
    }
   }
  },
  {
   "cell_type": "code",
   "execution_count": 186,
   "outputs": [
    {
     "name": "stdout",
     "output_type": "stream",
     "text": [
      "Means for the transformed 'hammer'\n",
      "[1.50599631 2.14924833 0.69180983]\n",
      "Middle point for the transformed 'hammer'\n",
      "[1.20558728 0.75249314 0.8050508 ]\n"
     ]
    },
    {
     "data": {
      "text/plain": "<Figure size 432x288 with 3 Axes>",
      "image/png": "[encoded data removed]"
     },
     "metadata": {
      "needs_background": "light"
     },
     "output_type": "display_data"
    }
   ],
   "source": [
    "hammer_rot_trans = hammer_rotated + 1.0\n",
    "print(\"Means for the transformed 'hammer'\")\n",
    "means_transformed = np.mean(hammer_rot_trans, axis=0)\n",
    "print(means_transformed)\n",
    "min_trans = np.min(hammer_rot_trans, axis=0)\n",
    "max_trans = np.max(hammer_rot_trans, axis=0)\n",
    "mid_trans = (max_trans + min_trans) * 0.5\n",
    "print(\"Middle point for the transformed 'hammer'\")\n",
    "print(mid_trans)\n",
    "\n",
    "fig = plt.plot(figsize=(fw*5, fw*1))\n",
    "for p in range(3):\n",
    "    ax = plt.subplot(1, 3, p+1)\n",
    "    ax.set_title(order[p][2])\n",
    "    ax.plot(hammer_rot_trans[:, order[p][0]],\n",
    "            hammer_rot_trans[:, order[p][1]],\n",
    "            'c.', alpha=0.3)\n",
    "    ax.plot(means_transformed[order[p][0]],\n",
    "            means_transformed[order[p][1]],\n",
    "            'r*')\n",
    "    ax.plot(mid_trans[order[p][0]],\n",
    "            mid_trans[order[p][1]],\n",
    "            'k^')\n",
    "\n",
    "    ax.set_xlim(-plot_lim, plot_lim)\n",
    "    ax.set_ylim(-plot_lim, plot_lim)\n",
    "    ax.set_aspect('equal', 'box')\n",
    "\n",
    "plt.show()\n"
   ],
   "metadata": {
    "collapsed": false,
    "pycharm": {
     "name": "#%%\n"
    }
   }
  },
  {
   "cell_type": "code",
   "execution_count": 187,
   "outputs": [
    {
     "name": "stdout",
     "output_type": "stream",
     "text": [
      "Means for the transformed 'hammer'\n",
      "[-1.93784382e-16 -3.58299249e-16  2.96732336e-16]\n",
      "Middle point for the transformed 'hammer'\n",
      "[1.20558728 0.75249314 0.8050508 ]\n"
     ]
    },
    {
     "data": {
      "text/plain": "<Figure size 432x288 with 3 Axes>",
      "image/png": "[encoded data removed]"
     },
     "metadata": {
      "needs_background": "light"
     },
     "output_type": "display_data"
    }
   ],
   "source": [
    "\n",
    "pca = PCA(3)\n",
    "hammer_pca = pca.fit_transform(hammer_rot_trans)\n",
    "print(\"Means for the transformed 'hammer'\")\n",
    "means_pca = np.mean(hammer_pca, axis=0)\n",
    "print(means_pca)\n",
    "min_pca = np.min(hammer_pca, axis=0)\n",
    "max_pca = np.max(hammer_pca, axis=0)\n",
    "mid_pca = (max_pca + min_pca) * 0.5\n",
    "print(\"Middle point for the transformed 'hammer'\")\n",
    "print(mid_trans)\n",
    "\n",
    "fig = plt.plot(figsize=(fw*5, fw*1))\n",
    "for p in range(3):\n",
    "    ax = plt.subplot(1, 3, p+1)\n",
    "    ax.set_title(order[p][2])\n",
    "    ax.plot(hammer_pca[:, order[p][0]],\n",
    "            hammer_pca[:, order[p][1]],\n",
    "            'c.', alpha=0.3)\n",
    "    ax.plot(means_pca[order[p][0]],\n",
    "            means_pca[order[p][1]],\n",
    "            'r*')\n",
    "    ax.plot(mid_pca[order[p][0]],\n",
    "            mid_pca[order[p][1]],\n",
    "            'k^')\n",
    "\n",
    "    ax.set_xlim(-plot_lim, plot_lim)\n",
    "    ax.set_ylim(-plot_lim, plot_lim)\n",
    "    ax.set_aspect('equal', 'box')\n",
    "\n",
    "plt.show()"
   ],
   "metadata": {
    "collapsed": false,
    "pycharm": {
     "name": "#%%\n"
    }
   }
  },
  {
   "cell_type": "code",
   "execution_count": 187,
   "outputs": [],
   "source": [],
   "metadata": {
    "collapsed": false,
    "pycharm": {
     "name": "#%%\n"
    }
   }
  },
  {
   "cell_type": "code",
   "execution_count": 188,
   "outputs": [
    {
     "name": "stdout",
     "output_type": "stream",
     "text": [
      "means from inverse PCA transform\n",
      "[1.50599631 2.14924833 0.69180983]\n",
      "means from original 'object'\n",
      "[1.50599631 2.14924833 0.69180983]\n"
     ]
    }
   ],
   "source": [
    "recons_means_pca = pca.inverse_transform(means_pca)\n",
    "print(\"means from inverse PCA transform\")\n",
    "print(recons_means_pca)\n",
    "print(\"means from original 'object'\")\n",
    "print(means_transformed)"
   ],
   "metadata": {
    "collapsed": false,
    "pycharm": {
     "name": "#%%\n"
    }
   }
  },
  {
   "cell_type": "code",
   "execution_count": 188,
   "outputs": [],
   "source": [],
   "metadata": {
    "collapsed": false,
    "pycharm": {
     "name": "#%%\n"
    }
   }
  }
 ],
 "metadata": {
  "kernelspec": {
   "name": "venv3",
   "language": "python",
   "display_name": "venv3"
  },
  "language_info": {
   "codemirror_mode": {
    "name": "ipython",
    "version": 2
   },
   "file_extension": ".py",
   "mimetype": "text/x-python",
   "name": "python",
   "nbconvert_exporter": "python",
   "pygments_lexer": "ipython2",
   "version": "2.7.6"
  }
 },
 "nbformat": 4,
 "nbformat_minor": 0
}